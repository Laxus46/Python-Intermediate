{
 "cells": [
  {
   "attachments": {},
   "cell_type": "markdown",
   "metadata": {},
   "source": [
    "# Module 14\n",
    "\n",
    "- **OOP Concepts: Inheritance, Encapsulation, Polymorphism, Abstraction**\n",
    "    - **Inheritance:**\n",
    "    Inheritance is a way to create new classes from existing ones. It allows a new class to take on the attributes and methods of an existing class, called the parent or superclass. The new class is called the child or subclass. In Python, you can define a subclass by specifying the superclass in parentheses after the class name\n",
    "    - **Encapsulation:**\n",
    "    Encapsulation is the practice of hiding implementation details of an object and exposing only the necessary interfaces to interact with it. In Python, this can be achieved through the use of private and protected variables and methods. Private variables and methods are denoted with a double underscore prefix, while protected variables and methods are denoted with a single underscore prefix.\n",
    "    - **Polymorphism**:\n",
    "    Polymorphism is the ability of objects to take on many forms. In Python, this can be achieved through method overriding and method overloading. Method overriding is when a subclass provides its own implementation of a method that is already defined in its superclass. Method overloading is when a class defines multiple methods with the same name but different parameters.\n",
    "    - **Abstraction in python** is defined as a process of handling complexity by hiding unnecessary information from the user. This is one of the core [](https://stackify.com/oops-concepts-in-java/)concepts of object-oriented programming (OOP) languages"
   ]
  },
  {
   "cell_type": "code",
   "execution_count": 5,
   "metadata": {},
   "outputs": [],
   "source": [
    "#payrollsystem class that process payroll :class example\n",
    "class payrollSystem:\n",
    "    def calculate_payroll(self,employees):\n",
    "        print('Calculating Payroll')\n",
    "        print('===============')\n",
    "        for em in employees:\n",
    "            print(f'Payroll for :{em.id}-{em.name}')\n",
    "            print(f'-Check amount : {em.calculate_payroll()}')\n",
    "            print(' ')\n",
    "\n",
    "#base class of all employee\n",
    "class Employee:\n",
    "    def __init__(self,id ,name):\n",
    "        self.id=id\n",
    "        self.name=name\n",
    "\n",
    "class SalaryEmployee(Employee):\n",
    "    def __init__(self, id, name,weekly_salary):\n",
    "        super().__init__(id, name)\n",
    "        self.weekly_salary=weekly_salary\n",
    "    def calculate_payroll(self):\n",
    "        return self.weekly_salary\n",
    "    \n",
    "\n",
    "class hourlyEmployee(Employee):\n",
    "    def __init__(self, id, name,hours_worked, hour_rate):\n",
    "        super().__init__(id, name)\n",
    "        self.hours_worked=hours_worked\n",
    "        self.hour_rate=hour_rate\n",
    "    def calculate_payroll(self):\n",
    "        return self.hour_rate*self.hours_worked\n",
    "    \n",
    "class CommissionEmployee(SalaryEmployee):\n",
    "    def __init__(self, id, name, weekly_salary, commission):\n",
    "        super().__init__(id, name, weekly_salary)\n",
    "        self.commission = commission\n",
    "\n",
    "    def calculate_payroll(self):\n",
    "        fixed = super().calculate_payroll()\n",
    "        return fixed + self.commission"
   ]
  },
  {
   "cell_type": "code",
   "execution_count": 6,
   "metadata": {},
   "outputs": [
    {
     "name": "stdout",
     "output_type": "stream",
     "text": [
      "Calculating Payroll\n",
      "===============\n",
      "Payroll for :1-A\n",
      "-Check amount : 1500\n",
      " \n",
      "Payroll for :2-B\n",
      "-Check amount : 600\n",
      " \n",
      "Payroll for :3-C\n",
      "-Check amount : 2500\n",
      " \n"
     ]
    }
   ],
   "source": [
    "#import \n",
    "salary_employee=SalaryEmployee(1,'A',1500)\n",
    "hourly_employee=hourlyEmployee(2,'B',40,15)\n",
    "commission_employee=CommissionEmployee(3,'C',2000,500)\n",
    "payroll_sys=payrollSystem()\n",
    "payroll_sys.calculate_payroll([salary_employee,hourly_employee,commission_employee])"
   ]
  },
  {
   "cell_type": "code",
   "execution_count": 1,
   "metadata": {},
   "outputs": [
    {
     "name": "stdout",
     "output_type": "stream",
     "text": [
      "1.05\n",
      "1.05\n",
      "1.05\n",
      "John.Doe@email.com\n",
      "70000\n",
      "True\n"
     ]
    }
   ],
   "source": [
    "\n",
    "class Employee:\n",
    "\n",
    "    num_of_emps = 0\n",
    "    raise_amt = 1.04\n",
    "\n",
    "    def __init__(self, first, last, pay):\n",
    "        self.first = first\n",
    "        self.last = last\n",
    "        self.email = first + '.' + last + '@email.com'\n",
    "        self.pay = pay\n",
    "\n",
    "        Employee.num_of_emps += 1\n",
    "\n",
    "    def fullname(self):\n",
    "        return '{} {}'.format(self.first, self.last)\n",
    "\n",
    "    def apply_raise(self):\n",
    "        self.pay = int(self.pay * self.raise_amt)\n",
    "\n",
    "    @classmethod\n",
    "    def set_raise_amt(cls, amount):\n",
    "        cls.raise_amt = amount\n",
    "\n",
    "#alternative constructor\n",
    "    @classmethod\n",
    "    def from_string(cls, emp_str):\n",
    "        first, last, pay = emp_str.split('-')\n",
    "        return cls(first, last, pay)\n",
    "\n",
    "    @staticmethod\n",
    "    def is_workday(day):\n",
    "        if day.weekday() == 5 or day.weekday() == 6:\n",
    "            return False\n",
    "        return True\n",
    "\n",
    "\n",
    "emp_1 = Employee('Ram', 'Thapa', 50000)\n",
    "emp_2 = Employee('Test', 'Employee', 60000)\n",
    "\n",
    "Employee.set_raise_amt(1.05)\n",
    "\n",
    "print(Employee.raise_amt)\n",
    "print(emp_1.raise_amt)\n",
    "print(emp_2.raise_amt)\n",
    "\n",
    "emp_str_1 = 'Sita-Magar-70000'\n",
    "emp_str_2 = 'A-B-30000'\n",
    "emp_str_3 = 'Jane-T2K-90000'\n",
    "\n",
    "first, last, pay = emp_str_1.split('-')\n",
    "\n",
    "#new_emp_1 = Employee(first, last, pay)\n",
    "new_emp_1 = Employee.from_string(emp_str_1)\n",
    "\n",
    "print(new_emp_1.email)\n",
    "print(new_emp_1.pay)\n",
    "\n",
    "import datetime\n",
    "my_date = datetime.date(2016, 7, 11)\n",
    "\n",
    "print(Employee.is_workday(my_date))"
   ]
  },
  {
   "attachments": {},
   "cell_type": "markdown",
   "metadata": {},
   "source": [
    " Operator Overloading in python"
   ]
  },
  {
   "cell_type": "code",
   "execution_count": 8,
   "metadata": {},
   "outputs": [
    {
     "name": "stdout",
     "output_type": "stream",
     "text": [
      "(14,12)\n"
     ]
    }
   ],
   "source": [
    "class Point:\n",
    "    def __init__(self,x,y):\n",
    "        self.x=x\n",
    "        self.y=y\n",
    "    def __str__(self):\n",
    "        return(f'({self.x},{self.y})')\n",
    "\n",
    "    def __add__(self,a):\n",
    "        x=self.x+a.x\n",
    "        y=self.y+a.y\n",
    "        return Point(x,y)\n",
    "\n",
    "p1=Point(10,7)\n",
    "p2=Point(4,5)\n",
    "print(p1+p2)\n",
    "\n",
    "\n",
    "\n"
   ]
  },
  {
   "attachments": {},
   "cell_type": "markdown",
   "metadata": {},
   "source": [
    "Overriding in python"
   ]
  },
  {
   "cell_type": "code",
   "execution_count": 5,
   "metadata": {},
   "outputs": [
    {
     "name": "stdout",
     "output_type": "stream",
     "text": [
      "60\n",
      "154.0\n"
     ]
    }
   ],
   "source": [
    "class Shape:\n",
    "    def area(self):\n",
    "        pass\n",
    "class Circle(Shape):\n",
    "    def area(self,radius):\n",
    "        return (22/7)*radius*radius\n",
    "class Rectangle(Shape):\n",
    "    def area(self,length,breadth):\n",
    "        return length*breadth\n",
    "\n",
    "area_of_rect=Rectangle()\n",
    "area_of_circle=Circle()\n",
    "print(area_of_rect.area(10,6))\n",
    "c=area_of_circle.area(7)\n",
    "print(c)\n"
   ]
  },
  {
   "attachments": {},
   "cell_type": "markdown",
   "metadata": {},
   "source": [
    " __init__ is used to initialize the state of an object when it is created, and __str__ is used to define the string representation of an object."
   ]
  },
  {
   "cell_type": "markdown",
   "metadata": {},
   "source": []
  },
  {
   "cell_type": "code",
   "execution_count": 11,
   "metadata": {},
   "outputs": [],
   "source": [
    "class A:\n",
    "    def func(self):\n",
    "        return 'A.func'\n",
    "class B(A):\n",
    "    def func(self):\n",
    "        return 'B.func'\n",
    "class C(A):\n",
    "    def func(self):\n",
    "        return 'C.func'\n",
    "class D(B,C):\n",
    "    pass"
   ]
  },
  {
   "cell_type": "code",
   "execution_count": null,
   "metadata": {},
   "outputs": [],
   "source": []
  },
  {
   "attachments": {},
   "cell_type": "markdown",
   "metadata": {},
   "source": [
    "Mixins are useful in Python because they provide a way to reuse code across multiple classes without having to create a complex class hierarchy or duplicate code."
   ]
  },
  {
   "cell_type": "code",
   "execution_count": 10,
   "metadata": {},
   "outputs": [
    {
     "name": "stdout",
     "output_type": "stream",
     "text": [
      "Hello, Laxman!\n"
     ]
    }
   ],
   "source": [
    "class GreetMixin:\n",
    "    def greet(self):\n",
    "        print(f\"Hello, {self.name}!\")\n",
    "\n",
    "class Person:\n",
    "    def __init__(self, name):\n",
    "        self.name = name\n",
    "\n",
    "class Customer(GreetMixin, Person):\n",
    "    def __init__(self, name, email):\n",
    "        super().__init__(name)\n",
    "        self.email = email\n",
    "\n",
    "customer = Customer(\"Laxman\", \"Laxman@example.com\")\n",
    "customer.greet()  \n"
   ]
  }
 ],
 "metadata": {
  "kernelspec": {
   "display_name": "Python 3",
   "language": "python",
   "name": "python3"
  },
  "language_info": {
   "codemirror_mode": {
    "name": "ipython",
    "version": 3
   },
   "file_extension": ".py",
   "mimetype": "text/x-python",
   "name": "python",
   "nbconvert_exporter": "python",
   "pygments_lexer": "ipython3",
   "version": "3.9.5"
  },
  "orig_nbformat": 4,
  "vscode": {
   "interpreter": {
    "hash": "11938c6bc6919ae2720b4d5011047913343b08a43b18698fd82dedb0d4417594"
   }
  }
 },
 "nbformat": 4,
 "nbformat_minor": 2
}
